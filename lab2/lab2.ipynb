{
 "cells": [
  {
   "cell_type": "code",
   "execution_count": 2,
   "metadata": {},
   "outputs": [],
   "source": [
    "from PIL import Image\n",
    "import numpy as np\n",
    "import matplotlib.pyplot as plt\n",
    "from numpy import cos\n",
    "import math as math\n",
    "from PIL import ImageOps"
   ]
  },
  {
   "cell_type": "code",
   "execution_count": 6,
   "metadata": {},
   "outputs": [],
   "source": [
    "#Барицентрические координаты\n",
    "def bar_coord(x,y,x0,y0,x1,y1,x2,y2):\n",
    "    lambda0 = ((x - x2) * (y1 - y2) - (x1 - x2) * (y - y2)) / ((x0 - x2) * (y1 - y2) - (x1 - x2) * (y0 - y2))\n",
    "    lambda1 = ((x0 - x2) * (y - y2) - (x - x2) * (y0 - y2)) / ((x0 - x2) * (y1 - y2) - (x1 - x2) * (y0 - y2))\n",
    "    lambda2 = 1.0 - lambda0 - lambda1\n",
    "    return lambda0, lambda1, lambda2"
   ]
  },
  {
   "cell_type": "code",
   "execution_count": 29,
   "metadata": {},
   "outputs": [],
   "source": [
    "# Вычисление нормали\n",
    "def norma (x0,y0,z0,x1,y1,z1,x2,y2,z2):\n",
    "    n = [0] * 3\n",
    "    n[0] = ((y1-y2) * (z1-z0)) - ((z1-z2) * (y1-y0))\n",
    "    n[1] = ((x1-x2) * (z1-z0)) - ((z1-z2) * (x1-x0))\n",
    "    n[2] = ((x1-x2) * (y1-y0)) - ((y1-y2) * (x1-x0))\n",
    "    return n"
   ]
  },
  {
   "cell_type": "code",
   "execution_count": 30,
   "metadata": {},
   "outputs": [],
   "source": [
    "def cos(n):\n",
    "    cosA = n[2]/ math.sqrt(n[0]**2 + n[1]**2 + n[2]**2)\n",
    "    return cosA"
   ]
  },
  {
   "cell_type": "code",
   "execution_count": null,
   "metadata": {},
   "outputs": [],
   "source": [
    "def draw_triangle(x0,y0,x1,y1,x2,y2,img_mat,color, z0,z1,z2,z_buffer):\n",
    "    xmin = int(min(x0, x1, x2)-1)\n",
    "    ymin = int(min(y0, y1, y2)-1)\n",
    "    xmax = int(max(x0, x1, x2)+1)\n",
    "    ymax = int(max(y0, y1, y2)+1)\n",
    "\n",
    "    if (xmin < 0): xmin = 0\n",
    "    if (ymin < 0): ymin = 0\n",
    "    for x in range(math.ceil(xmin), math.floor(xmax)):\n",
    "        for y in range(math.ceil(ymin), math.floor(ymax)):\n",
    "            lambda0, lambda1, lambda2 = bar_coord(x,y,x0,y0,x1,y1,x2,y2)\n",
    "            if (lambda0 >=0 and lambda1 >=0 and lambda2 >=0): \n",
    "                z_display= lambda0*z0 + lambda1*z1 + lambda2*z2\n",
    "                if(z_buffer[y,x] > z_display):\n",
    "                     z_buffer[y,x] = z_display\n",
    "                     img_mat[y,x]=color"
   ]
  },
  {
   "cell_type": "code",
   "execution_count": 45,
   "metadata": {},
   "outputs": [],
   "source": [
    "#работа с файлом\n",
    "\n",
    "file = open('model_1.obj', 'r')\n",
    "v = []\n",
    "f = []\n",
    "img_mat = np.zeros((4000, 4000, 3), dtype = np.uint8)\n",
    "z_buffer = np.full((4000,4000), np.inf, dtype = np.float32)\n",
    "\n",
    "#считали вершины и вектора\n",
    "for str in file:\n",
    "    strs=str.split()\n",
    "    if(strs[0] == 'v'):\n",
    "         v.append((float(strs[1]),float(strs[2]),float(strs[3])))\n",
    "    if(strs[0] == 'f'):\n",
    "        f.append((int(strs[1].split('/')[0]),int(strs[2].split('/')[0]),int(strs[3].split('/')[0])))\n",
    "\n",
    "#пробежались по вершинам которые надо соединить\n",
    "for i in range(len(f)):\n",
    "        \n",
    "        x0 = (v[f[i][0]-1][0]* 20000 + 2000)\n",
    "        y0 = (v[f[i][0]-1][1]* 20000 + 1200)\n",
    "        z0 = (v[f[i][0]-1][2]* 20000 + 1200)\n",
    "        x1 = (v[f[i][1]-1][0]* 20000 + 2000)\n",
    "        y1 = (v[f[i][1]-1][1]* 20000 + 1200)\n",
    "        z1 = (v[f[i][1]-1][2]* 20000 + 1200)\n",
    "        x2 = (v[f[i][2]-1][0]* 20000 + 2000)\n",
    "        y2 = (v[f[i][2]-1][1]* 20000 + 1200)\n",
    "        z2 = (v[f[i][2]-1][2]* 20000 + 1200)\n",
    "\n",
    "        n = norma(x0,y0,z0,x1,y1,z1,x2,y2,z2)\n",
    "        cosA = cos(n)\n",
    "        color = [-255*cosA, -255*cosA, -255*cosA]\n",
    "        if (cosA < 0):\n",
    "                draw_triangle(x0,y0,x1,y1,x2,y2, img_mat, color, z0, z1, z2, cosA, z_buffer)\n",
    "\n",
    "\n",
    "img = Image.fromarray(img_mat, mode='RGB')\n",
    "im = ImageOps.flip(img)\n",
    "im.save(\"model_2_color.png\")"
   ]
  }
 ],
 "metadata": {
  "kernelspec": {
   "display_name": "Python 3",
   "language": "python",
   "name": "python3"
  },
  "language_info": {
   "codemirror_mode": {
    "name": "ipython",
    "version": 3
   },
   "file_extension": ".py",
   "mimetype": "text/x-python",
   "name": "python",
   "nbconvert_exporter": "python",
   "pygments_lexer": "ipython3",
   "version": "3.12.6"
  }
 },
 "nbformat": 4,
 "nbformat_minor": 2
}
