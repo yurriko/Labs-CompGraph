{
 "cells": [
  {
   "cell_type": "code",
   "execution_count": 86,
   "metadata": {},
   "outputs": [],
   "source": [
    "from PIL import Image\n",
    "import numpy as np\n",
    "import matplotlib.pyplot as plt\n",
    "from numpy import cos\n",
    "import math as math\n",
    "from PIL import ImageOps"
   ]
  },
  {
   "cell_type": "code",
   "execution_count": 87,
   "metadata": {},
   "outputs": [],
   "source": [
    "#Барицентрические координаты\n",
    "def bar_coord(x,y,x0,y0,x1,y1,x2,y2):\n",
    "    lambda0 = ((x - x2) * (y1 - y2) - (x1 - x2) * (y - y2)) / ((x0 - x2) * (y1 - y2) - (x1 - x2) * (y0 - y2))\n",
    "    lambda1 = ((x0 - x2) * (y - y2) - (x - x2) * (y0 - y2)) / ((x0 - x2) * (y1 - y2) - (x1 - x2) * (y0 - y2))\n",
    "    lambda2 = 1.0 - lambda0 - lambda1\n",
    "    return lambda0, lambda1, lambda2"
   ]
  },
  {
   "cell_type": "code",
   "execution_count": 88,
   "metadata": {},
   "outputs": [],
   "source": [
    "# Вычисление нормали\n",
    "def norma (x0,y0,z0,x1,y1,z1,x2,y2,z2):\n",
    "    n = [0] * 3\n",
    "    n[0] = ((y1-y2) * (z1-z0)) - ((z1-z2) * (y1-y0))\n",
    "    n[1] = ((x1-x2) * (z1-z0)) - ((z1-z2) * (x1-x0))\n",
    "    n[2] = ((x1-x2) * (y1-y0)) - ((y1-y2) * (x1-x0))\n",
    "    return n"
   ]
  },
  {
   "cell_type": "code",
   "execution_count": 89,
   "metadata": {},
   "outputs": [],
   "source": [
    "def cos(n):\n",
    "    cosA = n[2]/ math.sqrt(n[0]**2 + n[1]**2 + n[2]**2)\n",
    "    return cosA"
   ]
  },
  {
   "cell_type": "code",
   "execution_count": 93,
   "metadata": {},
   "outputs": [],
   "source": [
    "def draw_triangle(img_mat,z_buffer,x0,y0,z0,x1,y1,z1,x2,y2,z2,color):\n",
    "    #пробежались по вершинам которые надо соединить\n",
    "    scale = 1700\n",
    "        \n",
    "    x0_p = (x0 * scale/z0 + 2000)\n",
    "    y0_p = (y0 * scale/z0 + 2000)\n",
    "    x1_p = (x1 * scale/z1 + 2000)\n",
    "    y1_p = (y1 * scale/z1 + 2000)\n",
    "    x2_p = (x2 * scale/z2 + 2000)\n",
    "    y2_p = (y2 * scale/z2 + 2000)\n",
    "   \n",
    "\n",
    "    xmin = int(min(x0_p, x1_p, x2_p)-1)\n",
    "    ymin = int(min(y0_p, y1_p, y2_p)-1)\n",
    "    xmax = int(max(x0_p, x1_p, x2_p)+1)\n",
    "    ymax = int(max(y0_p, y1_p, y2_p)+1)\n",
    "\n",
    "    if (xmin < 0): xmin = 0\n",
    "    if (ymin < 0): ymin = 0\n",
    "    if (xmax > 4000): xmax = 4000\n",
    "    if (ymax > 4000): ymax = 4000\n",
    "    for x in range(math.ceil(xmin), math.floor(xmax)):\n",
    "        for y in range(math.ceil(ymin), math.floor(ymax)):\n",
    "            lambda0, lambda1, lambda2 = bar_coord(x,y,x0_p,y0_p,x1_p,y1_p,x2_p,y2_p)\n",
    "            if (lambda0 >=0 and lambda1 >=0 and lambda2 >=0): \n",
    "                z_display= lambda0*z0 + lambda1*z1 + lambda2*z2\n",
    "                if(z_buffer[y,x] > z_display):\n",
    "                     z_buffer[y,x] = z_display\n",
    "                     img_mat[y,x]=color"
   ]
  },
  {
   "cell_type": "code",
   "execution_count": 91,
   "metadata": {},
   "outputs": [],
   "source": [
    "def model_reverse(a,b,c,v):\n",
    "    shift = np.array([0.1,-0.8,8])\n",
    "    matrixRa = np.array([[1,0,0], [0,math.cos(a),math.sin(a)], [0,-math.sin(a), math.cos(a)]])\n",
    "    matrixRb = np.array([[math.cos(b),0,math.sin(b)], [0,1,0], [-math.sin(b),0, math.cos(b)]])\n",
    "    matrixRc = np.array([[math.cos(c),math.sin(c),0], [-math.sin(a),math.cos(a),0], [0,0,1]])\n",
    "    R=matrixRa@matrixRb@matrixRc\n",
    "    R=np.dot(R,v)+shift\n",
    "    return R\n"
   ]
  },
  {
   "cell_type": "code",
   "execution_count": null,
   "metadata": {},
   "outputs": [],
   "source": [
    "#работа с файлом\n",
    "\n",
    "file = open('Tiger_I.obj', 'r')\n",
    "v = []\n",
    "f = []\n",
    "img_mat = np.zeros((4000, 4000, 3), dtype = np.uint8)\n",
    "z_buffer = np.full((4000,4000), np.inf, dtype = np.float32)\n",
    "\n",
    "\n",
    "#считали вершины и вектора\n",
    "for str in file:\n",
    "    strs=str.split()\n",
    "    if(strs[0] == 'v'):\n",
    "        v.append((float(strs[1]),float(strs[2]),float(strs[3])))\n",
    "    if(strs[0] == 'f'):\n",
    "        f.append((int(strs[1].split('/')[0]),int(strs[2].split('/')[0]),int(strs[3].split('/')[0])))\n",
    "\n",
    "#поворот\n",
    "for i in range (len(v)):\n",
    "      v[i] = model_reverse(0,2.356125,0,v[i])\n",
    "\n",
    "#пробежались по вершинам которые надо соединить\n",
    "for i in range(len(f)):\n",
    "        \n",
    "        x0 = (v[f[i][0]-1][0])\n",
    "        y0 = (v[f[i][0]-1][1])\n",
    "        z0 = (v[f[i][0]-1][2])\n",
    "        x1 = (v[f[i][1]-1][0])\n",
    "        y1 = (v[f[i][1]-1][1])\n",
    "        z1 = (v[f[i][1]-1][2])\n",
    "        x2 = (v[f[i][2]-1][0])\n",
    "        y2 = (v[f[i][2]-1][1])\n",
    "        z2 = (v[f[i][2]-1][2])\n",
    "\n",
    "        n = norma(x0,y0,z0,x1,y1,z1,x2,y2,z2)\n",
    "        \n",
    "        cosA = cos(n)\n",
    "        color = [cosA, -255*cosA, cosA]\n",
    "        if (cosA < 0):\n",
    "                draw_triangle(img_mat,z_buffer,x0,y0,z0,x1,y1,z1,x2,y2,z2,color)\n",
    "\n",
    "img = Image.fromarray(img_mat, mode='RGB')\n",
    "im = ImageOps.flip(img)                      \n",
    "im.save(\"model_2.3_color.png\")"
   ]
  }
 ],
 "metadata": {
  "kernelspec": {
   "display_name": "Python 3",
   "language": "python",
   "name": "python3"
  },
  "language_info": {
   "codemirror_mode": {
    "name": "ipython",
    "version": 3
   },
   "file_extension": ".py",
   "mimetype": "text/x-python",
   "name": "python",
   "nbconvert_exporter": "python",
   "pygments_lexer": "ipython3",
   "version": "3.12.6"
  }
 },
 "nbformat": 4,
 "nbformat_minor": 2
}
