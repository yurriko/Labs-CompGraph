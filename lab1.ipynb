{
 "cells": [
  {
   "cell_type": "code",
   "execution_count": null,
   "metadata": {},
   "outputs": [],
   "source": [
    "from PIL import Image\n",
    "import numpy as np\n",
    "import matplotlib.pyplot as plt"
   ]
  },
  {
   "cell_type": "code",
   "execution_count": 4,
   "metadata": {},
   "outputs": [],
   "source": [
    "# 1. Чёрное изображение\n",
    "H, W = 200, 200\n",
    "black_image = np.zeros((H, W), dtype=np.uint8)\n",
    "Image.fromarray(black_image).save(\"black.png\")\n",
    "\n",
    "# 2. Белое изображение\n",
    "white_image = np.full((H, W), 255, dtype=np.uint8)\n",
    "Image.fromarray(white_image).save(\"white.png\")\n",
    "\n",
    "# 3. Красное изображение\n",
    "red_image = np.zeros((H, W, 3), dtype=np.uint8)\n",
    "red_image[:, :, 0] = 255  # Красный канал\n",
    "Image.fromarray(red_image).save(\"red.png\")\n",
    "\n",
    "# 4. Градиентное изображение\n",
    "gradient_image = np.zeros((H, W, 3), dtype=np.uint8)\n",
    "for i in range(H):\n",
    "    for j in range(W):\n",
    "        gradient_image[i, j] = (i + j) % 256\n",
    "Image.fromarray(gradient_image).save(\"gradient.png\")"
   ]
  },
  {
   "cell_type": "code",
   "execution_count": null,
   "metadata": {},
   "outputs": [],
   "source": []
  }
 ],
 "metadata": {
  "kernelspec": {
   "display_name": "Python 3",
   "language": "python",
   "name": "python3"
  },
  "language_info": {
   "codemirror_mode": {
    "name": "ipython",
    "version": 3
   },
   "file_extension": ".py",
   "mimetype": "text/x-python",
   "name": "python",
   "nbconvert_exporter": "python",
   "pygments_lexer": "ipython3",
   "version": "3.12.6"
  },
  "polyglot_notebook": {
   "kernelInfo": {
    "defaultKernelName": "csharp",
    "items": [
     {
      "aliases": [],
      "name": "csharp"
     }
    ]
   }
  }
 },
 "nbformat": 4,
 "nbformat_minor": 2
}
