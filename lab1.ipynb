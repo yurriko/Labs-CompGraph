{
 "cells": [
  {
   "cell_type": "code",
   "execution_count": 102,
   "metadata": {},
   "outputs": [],
   "source": [
    "from PIL import Image\n",
    "import numpy as np\n",
    "import matplotlib.pyplot as plt\n",
    "from numpy import cos\n",
    "import math as math\n",
    "from PIL import ImageOps"
   ]
  },
  {
   "cell_type": "code",
   "execution_count": null,
   "metadata": {},
   "outputs": [],
   "source": [
    "# пробное изображение\n",
    "\n",
    "img_mat=np.zeros((600,800,3), dtype=np.uint8)\n",
    "\n",
    "img_mat[0:600, 0:800] = [255,255,0]\n",
    "\n",
    "img=Image.fromarray(img_mat, mode = 'RGB')\n",
    "img.save('img.png')"
   ]
  },
  {
   "cell_type": "code",
   "execution_count": null,
   "metadata": {},
   "outputs": [],
   "source": [
    "#первое задание\n",
    "\n",
    "H, W = 200, 200\n",
    "black_image = np.zeros((H, W), dtype=np.uint8)\n",
    "Image.fromarray(black_image).save(\"black.png\")\n",
    "\n",
    "white_image = np.full((H, W), 255, dtype=np.uint8)\n",
    "Image.fromarray(white_image).save(\"white.png\")\n",
    "\n",
    "red_image = np.zeros((H, W, 3), dtype=np.uint8)\n",
    "red_image[:, :, 0] = 255 \n",
    "Image.fromarray(red_image).save(\"red.png\")\n",
    "\n",
    "gradient_image = np.zeros((H, W, 3), dtype=np.uint8)\n",
    "for i in range(H):\n",
    "    for j in range(W):\n",
    "        gradient_image[i, j] = (i + j) % 256\n",
    "Image.fromarray(gradient_image).save(\"gradient.png\")"
   ]
  },
  {
   "cell_type": "code",
   "execution_count": null,
   "metadata": {},
   "outputs": [],
   "source": [
    "#второе задание\n",
    "def draw_line(img_mat,x0,y0,x1,y1,color):\n",
    "    step=1.0/100\n",
    "    for t in np.arange(0,1,step):\n",
    "        x=round((1.0 - t)*x0 + t*x1)\n",
    "        y=round((1.0 - t)*y0 + t*y1)\n",
    "        img_mat[y, x] = color\n"
   ]
  },
  {
   "cell_type": "code",
   "execution_count": null,
   "metadata": {},
   "outputs": [],
   "source": [
    "def x_loop_line(img_mat,x0,y0,x1,y1,color):\n",
    "    #просто цикл по x\n",
    "    for x in range (x0, x1):\n",
    "        t = (x-x0)/(x1 - x0)\n",
    "        y = round ((1.0 - t)*y0 + t*y1)\n",
    "        img_mat[y, x] = color"
   ]
  },
  {
   "cell_type": "code",
   "execution_count": null,
   "metadata": {},
   "outputs": [],
   "source": [
    "def x_loop_line_fix(img_mat,x0,y0,x1,y1,color):\n",
    "    #до цикла проверяем начальные точки\n",
    "    if (x0 > x1):\n",
    "            x0, x1 = x1, x0\n",
    "            y0, y1 = y1, y0\n",
    "    for x in range (x0, x1):\n",
    "        t = (x-x0)/(x1 - x0)\n",
    "        y = round ((1.0 - t)*y0 + t*y1)\n",
    "        img_mat[y, x] = color"
   ]
  },
  {
   "cell_type": "code",
   "execution_count": null,
   "metadata": {},
   "outputs": [],
   "source": [
    "def x_loop_line_fix2(img_mat,x0,y0,x1,y1,color):\n",
    "    #Если изменение по x больше, чем изменение по y,\n",
    "    #поменяем местами x и y\n",
    "\n",
    "    xchange = False\n",
    "    if (abs(x0 -x1) < abs(y0 - y1)):\n",
    "        x0, y0 = y0, x0\n",
    "        x1, y1 = y1, x1\n",
    "        xchange = True\n",
    "    for x in range (x0, x1):\n",
    "        t = (x-x0)/(x1 - x0)\n",
    "        y = round ((1.0 - t)*y0 + t*y1)\n",
    "        if (xchange):\n",
    "            img_mat[x, y] = color\n",
    "        else:\n",
    "            img_mat[y, x] = color"
   ]
  },
  {
   "cell_type": "code",
   "execution_count": null,
   "metadata": {},
   "outputs": [],
   "source": [
    "def draw_line_step_first_last(img_mat,x0,y0,x1,y1,color):\n",
    "    #Можно выбирать шаг на основе расстояния\n",
    "    #между первой и последней точкой\n",
    "\n",
    "    xchange = False\n",
    "    if (abs(x0 -x1) < abs(y0 - y1)):\n",
    "        x0, y0 = y0, x0\n",
    "        x1, y1 = y1, x1\n",
    "        xchange = True\n",
    "\n",
    "    if (x0 > x1):\n",
    "        x0, x1 = x1, x0\n",
    "        y0, y1 = y1, y0\n",
    "\n",
    "    y = y0\n",
    "    dy = abs(y1 - y0)/(x1 - x0)\n",
    "    derror = 0.0\n",
    "    y_update = 1 if y1 > y0 else -1\n",
    "    \n",
    "    for x in range (x0, x1):\n",
    "        if (xchange):\n",
    "            img_mat[x, y] = color\n",
    "        else:\n",
    "            img_mat[y, x] = color\n",
    "        \n",
    "        derror += dy\n",
    "        if (derror > 0.5):\n",
    "            derror -= 1.0\n",
    "            y += y_update\n"
   ]
  },
  {
   "cell_type": "code",
   "execution_count": 97,
   "metadata": {},
   "outputs": [],
   "source": [
    "def draw_line_step_first_last_fix(img_mat,x0,y0,x1,y1,color):\n",
    "    #Можно выбирать шаг на основе расстояния\n",
    "    #между первой и последней точкой\n",
    "\n",
    "    xchange = False\n",
    "    if (abs(x0 -x1) < abs(y0 - y1)):\n",
    "        x0, y0 = y0, x0\n",
    "        x1, y1 = y1, x1\n",
    "        xchange = True\n",
    "\n",
    "    if (x0 > x1):\n",
    "        x0, x1 = x1, x0\n",
    "        y0, y1 = y1, y0\n",
    "\n",
    "    y = y0\n",
    "    dy = 2.0*(x1 -x0)*abs(y1 - y0)/(x1 - x0)\n",
    "    derror = 0.0\n",
    "    y_update = 1 if y1 > y0 else -1\n",
    "    \n",
    "    for x in range (x0, x1):\n",
    "        if (xchange):\n",
    "            img_mat[x, y] = color\n",
    "        else:\n",
    "            img_mat[y, x] = color\n",
    "\n",
    "        derror += dy\n",
    "        if (derror > 2.0*(x1 -x0)*0.5):\n",
    "            derror -= 2.0*(x1 -x0)*1.0\n",
    "            y += y_update\n"
   ]
  },
  {
   "cell_type": "code",
   "execution_count": 100,
   "metadata": {},
   "outputs": [],
   "source": [
    "#алгоритм Брезенхема\n",
    "def x_loop_final(img_mat, x0, y0, x1, y1,color):\n",
    "    xchange = False\n",
    "    if(abs(x0-x1) < abs(y0-y1)):\n",
    "        x0, y0 = y0, x0\n",
    "        x1, y1 = y1, x1\n",
    "        xchange = True\n",
    "    if(x1<x0):\n",
    "        x0, x1 = x1, x0\n",
    "        y0, y1 = y1, y0\n",
    "    y = y0\n",
    "    dy = 2 * abs((y1-y0))\n",
    "    derror = 0\n",
    "    y_update= 1 if y1 > y0 else -1\n",
    "    for x in range(x0, x1):\n",
    "        if(xchange):\n",
    "            img_mat[x, y] = color\n",
    "        else:\n",
    "            img_mat[y, x] = color\n",
    "        derror += dy\n",
    "        if (derror > (x1-x0)):\n",
    "            derror -= 2 * (x1-x0)\n",
    "            y += y_update"
   ]
  },
  {
   "cell_type": "code",
   "execution_count": 101,
   "metadata": {},
   "outputs": [],
   "source": [
    "img_mat=np.zeros((200,200,3), dtype=np.uint8)\n",
    "for i in range (13):\n",
    "    x0=100\n",
    "    y0=100\n",
    "    x1 = int(100 + 95 * math.cos((i*2*math.pi)/13))\n",
    "    y1 = int(100 + 95 * math.sin((i*2*math.pi)/13))\n",
    "    #draw_line(img_mat,x0,y0,x1,y1,255)\n",
    "    #x_loop_line(img_mat,x0,y0,x1,y1,255)\n",
    "    #x_loop_line_fix(img_mat,x0,y0,x1,y1,255)\n",
    "    #x_loop_line_fix2(img_mat,x0,y0,x1,y1,(127, 255, 0))\n",
    "    #draw_line_step_first_last(img_mat,x0,y0,x1,y1,(127, 255, 0))\n",
    "    #draw_line_step_first_last_fix(img_mat,x0,y0,x1,y1,(127, 255, 0))\n",
    "    #draw_line_step_first_last_fix(img_mat,x0,y0,x1,y1,(127, 255, 0))\n",
    "    x_loop_final(img_mat, x0, y0, x1, y1,(127, 255, 0))\n",
    "\n",
    "\n",
    "img=Image.fromarray(img_mat, mode = 'RGB')\n",
    "img.save('img.png')"
   ]
  },
  {
   "cell_type": "code",
   "execution_count": 181,
   "metadata": {},
   "outputs": [],
   "source": [
    "def x_loop_final_model(img_mat, x0, y0, x1, y1, color):\n",
    "    xchange = False\n",
    "    if(abs(x0-x1) < abs(y0-y1)):\n",
    "        x0, y0 = y0, x0\n",
    "        x1, y1 = y1, x1\n",
    "        xchange = True\n",
    "    if(x1<x0):\n",
    "        x0, x1 = x1, x0\n",
    "        y0, y1 = y1, y0\n",
    "    y = y0\n",
    "    dy = 2 * abs((y1-y0))\n",
    "    derror = 0\n",
    "    y_update= 1 if y1 > y0 else -1\n",
    "    for x in range(x0, x1):\n",
    "        if(xchange):\n",
    "            img_mat[x, y] = color\n",
    "        else:\n",
    "            img_mat[y, x] = color\n",
    "        derror += dy\n",
    "        if (derror > (x1-x0)):\n",
    "            derror -= 2 * (x1-x0)\n",
    "            y += y_update"
   ]
  },
  {
   "cell_type": "code",
   "execution_count": 178,
   "metadata": {},
   "outputs": [],
   "source": [
    "#работа с файлом\n",
    "color=(127, 255, 0)\n",
    "\n",
    "file = open('model_1.obj', 'r')\n",
    "v = []\n",
    "f = []\n",
    "img_mat = np.zeros((1000, 1000, 3), dtype = np.uint8)\n",
    "for str in file:\n",
    "    strs=str.split()\n",
    "    if(strs[0] == 'v'):\n",
    "         v.append((float(strs[1]),float(strs[2]),float(strs[3])))\n",
    "for x in v:\n",
    "    img_mat[int(x[1] * 5000 + 300), int(x[0] * 5000 + 500)] = color\n",
    "\n",
    "img = Image.fromarray(img_mat, mode='RGB')\n",
    "im = ImageOps.flip(img)\n",
    "im.save('model.png')"
   ]
  },
  {
   "cell_type": "code",
   "execution_count": 193,
   "metadata": {},
   "outputs": [],
   "source": [
    "#работа с файлом\n",
    "color=(127, 255, 0)\n",
    "\n",
    "file = open('model_1.obj', 'r')\n",
    "v = []\n",
    "f = []\n",
    "img_mat = np.zeros((1000, 1000, 3), dtype = np.uint8)\n",
    "#считали вершины и вектора\n",
    "for str in file:\n",
    "    strs=str.split()\n",
    "    if(strs[0] == 'v'):\n",
    "         v.append((float(strs[1]),float(strs[2]),float(strs[3])))\n",
    "    if(strs[0] == 'f'):\n",
    "        f.append((int(strs[1].split('/')[0]),int(strs[2].split('/')[0]),int(strs[3].split('/')[0])))\n",
    "\n",
    "#пробежались по вершинам которые надо соединить\n",
    "for i in range(len(f)):\n",
    "        x0 = int(v[f[i][0]-1][0]* 5000 + 500)\n",
    "        y0 = int(v[f[i][0]-1][1]* 5000 + 300)\n",
    "        x1 = int(v[f[i][1]-1][0]* 5000 + 500)\n",
    "        y1 = int(v[f[i][1]-1][1]* 5000 + 300)\n",
    "\n",
    "        x_loop_final_model(img_mat, x0, y0, x1, y1, color)\n",
    "\n",
    "img = Image.fromarray(img_mat, mode='RGB')\n",
    "im = ImageOps.flip(img)\n",
    "im.save(\"model_final.png\")"
   ]
  }
 ],
 "metadata": {
  "kernelspec": {
   "display_name": "Python 3",
   "language": "python",
   "name": "python3"
  },
  "language_info": {
   "codemirror_mode": {
    "name": "ipython",
    "version": 3
   },
   "file_extension": ".py",
   "mimetype": "text/x-python",
   "name": "python",
   "nbconvert_exporter": "python",
   "pygments_lexer": "ipython3",
   "version": "3.12.6"
  },
  "polyglot_notebook": {
   "kernelInfo": {
    "defaultKernelName": "csharp",
    "items": [
     {
      "aliases": [],
      "name": "csharp"
     }
    ]
   }
  }
 },
 "nbformat": 4,
 "nbformat_minor": 2
}
